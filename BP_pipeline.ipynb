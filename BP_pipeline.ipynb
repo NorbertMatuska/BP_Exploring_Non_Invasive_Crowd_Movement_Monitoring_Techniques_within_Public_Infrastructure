{
 "cells": [
  {
   "cell_type": "markdown",
   "source": [
    "# Monad pipeline\n",
    "For BP purposes"
   ],
   "metadata": {
    "collapsed": false
   },
   "id": "3247adf23f94e98e"
  },
  {
   "cell_type": "markdown",
   "source": [
    "Norbert Matuška"
   ],
   "metadata": {
    "collapsed": false
   },
   "id": "4b5e07b7d91e94f9"
  },
  {
   "cell_type": "code",
   "execution_count": 38,
   "id": "initial_id",
   "metadata": {
    "collapsed": true,
    "ExecuteTime": {
     "end_time": "2025-02-11T21:13:58.736453Z",
     "start_time": "2025-02-11T21:13:58.732588Z"
    }
   },
   "outputs": [],
   "source": [
    "import pandas as pd\n",
    "import numpy as np\n",
    "import base64\n",
    "from collections import defaultdict\n",
    "import matplotlib.pyplot as plt\n",
    "import seaborn as sns"
   ]
  },
  {
   "cell_type": "markdown",
   "source": [
    "# Data preparation and analysis"
   ],
   "metadata": {
    "collapsed": false
   },
   "id": "dad9565ae073a5e6"
  },
  {
   "cell_type": "markdown",
   "source": [
    "Decodes and parses 802.11 wireless frame headers, extracting details like frame type, MAC addresses, and sequence information. It categorizes management, control, and data frames."
   ],
   "metadata": {
    "collapsed": false
   },
   "id": "af70bb30283d0be2"
  },
  {
   "cell_type": "code",
   "outputs": [],
   "source": [
    "management_subtypes = {\n",
    "    0:  \"Association Request\",\n",
    "    1:  \"Association Response\",\n",
    "    2:  \"Reassociation Request\",\n",
    "    3:  \"Reassociation Response\",\n",
    "    4:  \"Probe Request\",\n",
    "    5:  \"Probe Response\",\n",
    "    6:  \"Timing Advertisement (11v)\",\n",
    "    7:  \"Reserved\",\n",
    "    8:  \"Beacon\",\n",
    "    9:  \"ATIM\",\n",
    "    10: \"Disassociation\",\n",
    "    11: \"Authentication\",\n",
    "    12: \"Deauthentication\",\n",
    "    13: \"Action\",\n",
    "    14: \"Action No Ack (11e)\",\n",
    "    15: \"Reserved\"\n",
    "}\n",
    "\n",
    "control_subtypes = {\n",
    "    0:   \"Reserved\",\n",
    "    1:   \"Reserved\",\n",
    "    2:   \"Trigger\",\n",
    "    3:   \"TACK\",\n",
    "    4:   \"Beamforming Report Poll\",\n",
    "    5:   \"VHT/HE NDP Announcement\",\n",
    "    6:   \"Reserved\",\n",
    "    7:   \"Control Wrapper\",\n",
    "    8:   \"Block Ack Request\",\n",
    "    9:   \"Block Ack\",\n",
    "    10:  \"PS-Poll\",\n",
    "    11:  \"RTS\",\n",
    "    12:  \"CTS\",\n",
    "    13:  \"ACK\",\n",
    "    14:  \"CF-End\",\n",
    "    15:  \"CF-End + CF-Ack\"\n",
    "}\n",
    "\n",
    "data_subtypes = {\n",
    "    0:   \"Data\",\n",
    "    1:   \"Data + CF-Ack\",\n",
    "    2:   \"Data + CF-Poll\",\n",
    "    3:   \"Data + CF-Ack + CF-Poll\",\n",
    "    4:   \"Null Function (No Data)\",\n",
    "    5:   \"CF-Ack (No Data)\",\n",
    "    6:   \"CF-Poll (No Data)\",\n",
    "    7:   \"CF-Ack + CF-Poll (No Data)\",\n",
    "    8:   \"QoS Data\",\n",
    "    9:   \"QoS Data + CF-Ack\",\n",
    "    10:  \"QoS Data + CF-Poll\",\n",
    "    11:  \"QoS Data + CF-Ack + CF-Poll\",\n",
    "    12:  \"QoS Null\",\n",
    "    13:  \"Reserved\",\n",
    "    14:  \"Reserved\",\n",
    "    15:  \"Reserved\"\n",
    "}\n",
    "\n",
    "frame_type_map = {\n",
    "    0: \"Management\",\n",
    "    1: \"Control\",\n",
    "    2: \"Data\",\n",
    "    3: \"Extension\"\n",
    "}\n",
    "\n",
    "TRANSLATED_HEADER_COLUMNS = [\n",
    "    \"frame_control_raw\",\n",
    "    \"protocol_version\",\n",
    "    \"frame_type\",\n",
    "    \"subtype\",\n",
    "\n",
    "    \"to_ds\",\n",
    "    \"from_ds\",\n",
    "    \"more_frag\",\n",
    "    \"retry\",\n",
    "    \"power_mgmt\",\n",
    "    \"more_data\",\n",
    "    \"protected_frame\",\n",
    "    \"order_flag\",\n",
    "\n",
    "    \"duration_id\",\n",
    "\n",
    "    \"destination_mac\",\n",
    "    \"source_mac\",\n",
    "    \"bssid_mac\",\n",
    "    \"address4_mac\",\n",
    "\n",
    "    \"sequence_control_raw\",\n",
    "    \"fragment_number\",\n",
    "    \"sequence_number\",\n",
    "\n",
    "    \"qos_control_raw\",\n",
    "    \"ht_control_raw\",\n",
    "\n",
    "    \"frame_body\"\n",
    "]\n",
    "\n",
    "\n",
    "def decode_header(header_b64):\n",
    "    try:\n",
    "        return base64.b64decode(header_b64)\n",
    "    except Exception as e:\n",
    "        print(f\"Error decoding header: {e}\")\n",
    "        return None\n",
    "\n",
    "def parse_probe_request(frame_body):\n",
    "\n",
    "    pos = 0\n",
    "    ies = {\n",
    "        \"ssid\": None,\n",
    "        \"supported_rates\": [],\n",
    "        \"extended_rates\": [],\n",
    "        \"vendor_specific\": []\n",
    "    }\n",
    "\n",
    "    while pos < len(frame_body):\n",
    "        if pos + 1 >= len(frame_body):\n",
    "            break\n",
    "\n",
    "        element_id = frame_body[pos]\n",
    "        element_len = frame_body[pos + 1]\n",
    "        pos += 2\n",
    "\n",
    "        if pos + element_len > len(frame_body):\n",
    "            break\n",
    "\n",
    "        element_data = frame_body[pos : pos + element_len]\n",
    "        pos += element_len\n",
    "\n",
    "        if element_id == 0:\n",
    "            ies[\"ssid\"] = element_data.decode(\"ascii\", errors=\"ignore\")\n",
    "        elif element_id == 1:\n",
    "            ies[\"supported_rates\"] = _decode_supported_rates(element_data)\n",
    "        elif element_id == 50:\n",
    "            ies[\"extended_rates\"] = _decode_supported_rates(element_data)\n",
    "        elif element_id == 221:\n",
    "            ies[\"vendor_specific\"].append(element_data)\n",
    "        else:\n",
    "            pass\n",
    "\n",
    "    return ies\n",
    "\n",
    "def _decode_supported_rates(rate_bytes):\n",
    "\n",
    "    rates = []\n",
    "    for r in rate_bytes:\n",
    "        rate_val = r & 0x7F  # strip off the 'basic rate' bit\n",
    "        # each unit = 500 kbps => multiply by 0.5 to get Mbps\n",
    "        rates.append(rate_val * 0.5)\n",
    "    return rates\n",
    "\n",
    "def translate_header(header_bytes):\n",
    "    if not header_bytes or len(header_bytes) < 24:\n",
    "        return [None] * len(TRANSLATED_HEADER_COLUMNS)\n",
    "\n",
    "    try:\n",
    "        # -----------------------------\n",
    "        # Frame Control\n",
    "        # -----------------------------\n",
    "        frame_control_raw = int.from_bytes(header_bytes[0:2], byteorder=\"little\")\n",
    "\n",
    "        protocol_version =  frame_control_raw & 0b11                # bits 0-1\n",
    "        frame_type       = (frame_control_raw >> 2) & 0b11          # bits 2-3\n",
    "        subtype          = (frame_control_raw >> 4) & 0b1111        # bits 4-7\n",
    "\n",
    "        # Flags\n",
    "        flags = (frame_control_raw >> 8) & 0xFF\n",
    "\n",
    "        to_ds           = bool(flags & 0b00000001)  # bit 8\n",
    "        from_ds         = bool(flags & 0b00000010)  # bit 9\n",
    "        more_frag       = bool(flags & 0b00000100)  # bit 10\n",
    "        retry           = bool(flags & 0b00001000)  # bit 11\n",
    "        power_mgmt      = bool(flags & 0b00010000)  # bit 12\n",
    "        more_data       = bool(flags & 0b00100000)  # bit 13\n",
    "        protected_frame = bool(flags & 0b01000000)  # bit 14\n",
    "        order_flag      = bool(flags & 0b10000000)  # bit 15\n",
    "\n",
    "        # -----------------------------\n",
    "        # Type/Subtype Description\n",
    "        # -----------------------------\n",
    "        type_description = frame_type_map.get(frame_type, \"Reserved\")\n",
    "\n",
    "        if frame_type == 0:\n",
    "            subtype_description = management_subtypes.get(subtype, \"Unknown\")\n",
    "        elif frame_type == 1:\n",
    "            subtype_description = control_subtypes.get(subtype, \"Unknown\")\n",
    "        elif frame_type == 2:\n",
    "            subtype_description = data_subtypes.get(subtype, \"Unknown\")\n",
    "        else:\n",
    "            # subtype mapping for 802.11n+ is more specialized\n",
    "            subtype_description = \"Extension/Reserved\"\n",
    "\n",
    "        # -----------------------------\n",
    "        # Duration/ID\n",
    "        # -----------------------------\n",
    "        duration_id = int.from_bytes(header_bytes[2:4], byteorder=\"little\")\n",
    "\n",
    "        # -----------------------------\n",
    "        # Addresses\n",
    "        # -----------------------------\n",
    "        address1 = _format_mac(header_bytes[4:10])\n",
    "        address2 = _format_mac(header_bytes[10:16])\n",
    "        address3 = _format_mac(header_bytes[16:22])\n",
    "\n",
    "        # Sequence Control\n",
    "        sequence_control_raw = int.from_bytes(header_bytes[22:24], byteorder=\"little\")\n",
    "        fragment_number = sequence_control_raw & 0x000F        # bits 0-3\n",
    "        sequence_number = (sequence_control_raw >> 4) & 0x0FFF  # bits 4-15\n",
    "\n",
    "        offset = 24\n",
    "        address4 = None\n",
    "\n",
    "        # if this is a data or QoS data frame with both To DS and From DS set => 4 addresses\n",
    "        if frame_type == 2 and to_ds and from_ds:\n",
    "            if len(header_bytes) >= offset + 6:\n",
    "                address4 = _format_mac(header_bytes[offset:offset+6])\n",
    "                offset += 6\n",
    "\n",
    "        # -----------------------------\n",
    "        # QoS Control\n",
    "        # -----------------------------\n",
    "        qos_control_raw = None\n",
    "        ht_control_raw = None\n",
    "\n",
    "        # if type is Data and the subtype >= 8 => likely QoS capable\n",
    "        if frame_type == 2 and subtype >= 8 and subtype <= 15:\n",
    "            if len(header_bytes) >= offset + 2:\n",
    "                qos_control_raw = int.from_bytes(header_bytes[offset:offset+2], byteorder=\"little\")\n",
    "                offset += 2\n",
    "\n",
    "            if order_flag:\n",
    "                if len(header_bytes) >= offset + 4:\n",
    "                    # some references say 4 bytes, others 2, 802.11n says 4. We parse 4 here\n",
    "                    ht_control_raw = header_bytes[offset:offset+4]\n",
    "                    offset += 4\n",
    "\n",
    "        frame_body = header_bytes[offset:]\n",
    "        \n",
    "        parsed_body = None\n",
    "        if type_description == \"Management\" and subtype_description == \"Probe Request\":\n",
    "            parsed_body = parse_probe_request(frame_body)\n",
    "\n",
    "        header_dict = {\n",
    "            \"frame_control\": {\n",
    "                \"raw\": frame_control_raw,\n",
    "                \"protocol_version\": protocol_version,\n",
    "                \"frame_type\": type_description,\n",
    "                \"subtype\": subtype_description,\n",
    "                \"to_ds\": to_ds,\n",
    "                \"from_ds\": from_ds,\n",
    "                \"more_frag\": more_frag,\n",
    "                \"retry\": retry,\n",
    "                \"power_mgmt\": power_mgmt,\n",
    "                \"more_data\": more_data,\n",
    "                \"protected_frame\": protected_frame,\n",
    "                \"order_flag\": order_flag,\n",
    "            },\n",
    "            \"duration_id\": duration_id,\n",
    "            \"addresses\": {\n",
    "                \"address1\": address1,\n",
    "                \"address2\": address2,\n",
    "                \"address3\": address3,\n",
    "                \"address4\": address4\n",
    "            },\n",
    "            \"sequence_control\": {\n",
    "                \"raw\": sequence_control_raw,\n",
    "                \"fragment_number\": fragment_number,\n",
    "                \"sequence_number\": sequence_number\n",
    "            },\n",
    "            \"qos_control_raw\": qos_control_raw,\n",
    "            \"ht_control_raw\": ht_control_raw.hex() if ht_control_raw else None,\n",
    "            \"frame_body\": parsed_body if parsed_body else frame_body.hex()\n",
    "        }\n",
    "\n",
    "        return header_dict\n",
    "\n",
    "    except Exception as e:\n",
    "        print(f\"Error translating header: {e}\")\n",
    "        return [None] * len(TRANSLATED_HEADER_COLUMNS)\n",
    "\n",
    "\n",
    "def _format_mac(mac_bytes):\n",
    "    if len(mac_bytes) < 6:\n",
    "        return None\n",
    "    return \":\".join(f\"{b:02x}\" for b in mac_bytes)"
   ],
   "metadata": {
    "collapsed": false,
    "ExecuteTime": {
     "end_time": "2025-02-11T21:13:58.805871Z",
     "start_time": "2025-02-11T21:13:58.785477Z"
    }
   },
   "id": "a82602a4fb6f498f",
   "execution_count": 39
  },
  {
   "cell_type": "markdown",
   "source": [
    "Processes a large CSV file in chunks, decoding and translating headers, then combines the results into a final DataFrame for analysis."
   ],
   "metadata": {
    "collapsed": false
   },
   "id": "87d582afdbafe7a0"
  },
  {
   "cell_type": "code",
   "outputs": [
    {
     "data": {
      "text/plain": "                 device  uploaded_file_id          happened_at  rssi  channel  \\\n0     CC:7B:5C:27:9E:30              1772  1970-04-10 10:05:34     0        0   \n1     CC:7B:5C:27:9E:30              1772  1970-04-10 10:05:34     0        0   \n2     CC:7B:5C:27:9E:30              1772  1970-04-10 10:05:34     0        0   \n3     CC:7B:5C:27:9E:30              2215  1970-04-10 10:05:34     0        0   \n4     CC:7B:5C:27:9E:30              2215  1970-04-10 10:05:34     0        0   \n...                 ...               ...                  ...   ...      ...   \n9995  C8:2E:18:8D:90:A4              1197  2024-11-14 17:47:20   -78        1   \n9996  C8:2E:18:8D:90:A4              1197  2024-11-14 17:47:20   -77        1   \n9997  C8:2E:18:8D:90:A4              1197  2024-11-14 17:47:20   -78        1   \n9998  C8:2E:18:8D:90:A4              1197  2024-11-14 17:47:20   -77        1   \n9999  C8:2E:18:8D:90:A4              1197  2024-11-14 17:47:20   -61        1   \n\n                                                header  \\\n0     /T8BAAAAAAAAAAAAAAAAAAAAVFkIQNTY/T9YDPw/YUIYgIBH   \n1     /T8BAAAAAAAAAAAAAAB8w/0/iMr9P4Dh/T9YDPw/YUIYgIBH   \n2     /T8BAAAAAAAAAAAAAAAAAAAAVFkIQAhK/T9YDPw/YUIYgIBH   \n3     /T8BAAAAAAAAAAAAAAAAAAAAVFkIQNTY/T9YDPw/YUIYgIBH   \n4     /T8BAAAAAAAAAAAAAAAAAAAAVFkIQIDh/T9YDPw/YUIYgIBH   \n...                                                ...   \n9995  gAAAAP///////1TX4yu94FTX4yu94FAL2eN2bg0AAABkADEE   \n9996  gAAAAP///////1TX4yu94VTX4yu94WALfPd2bg0AAABkADEE   \n9997  gAAAAP///////1TX4yu94lTX4yu94nAL0AB3bg0AAABkADEE   \n9998  gAAAAP///////1TX4yu95VTX4yu95YALMwp3bg0AAABkADEE   \n9999  gAAAAP///////1TX4zDSIFTX4zDSIDCVtUEuaw0AAABkADEE   \n\n                                                payload  \\\n0     cMP9PwEAAAAgDAYAYEf9P+Qy/T/AR/0/AQAAAAAAAAA8sg...   \n1     fMP9PwEAAAAgDQYAYEf9P+Qy/T/AR/0/AQAAAAAAAABWtQ...   \n2     iMP9PwEAAAAgBwYAYEf9P+Qy/T/AR/0/AQAAAAAAAABHuA...   \n3     cMP9PwEAAAAgBwYAYEf9P+Qy/T/AR/0/AQAAAAAAAABU8Q...   \n4     fMP9PwEAAAAgBwYAYEf9P+Qy/T/AR/0/AQAAAAAAAABY8g...   \n...                                                 ...   \n9995  AAVHdWVzdAEIgoQLFiQwSGwDAQEFBAABAAAqAQAyBAwSGG...   \n9996  AAdlZHVyb2FtAQiChAsWJDBIbAMBAQUEAAEAACoBADIEDB...   \n9997  AAtKQVNsb3ZlbnNrbwEIgoQLFiQwSGwDAQEFBAABAAAqAQ...   \n9998  AAdBcHJvTVVOAQiChAsWJDBIbAMBAQUEAAEAACoBADIEDB...   \n9999  AAVHdWVzdAEIgoQLFiQwSGwDAQEFBAABAAAqAQAyBAwSGG...   \n\n                                        id  \\\n0     941936cf-bcb5-49ae-ab39-eee55264d748   \n1     da58e9ab-1131-43f6-91ae-0bc6568e5f0f   \n2     83e3b38b-8d15-4eea-ac6c-01933ac8e38d   \n3     44c5dd36-2719-4c40-b5c4-cc64f77bbe61   \n4     d2aa9202-5f57-4a62-a455-8ea35cf93604   \n...                                    ...   \n9995  375367f0-7548-4c65-8de7-23c2a909f41f   \n9996  91bfeb9a-3714-4e77-85e1-e727893279b4   \n9997  b54ccfbb-77be-4aeb-8093-0d8d4a72bec8   \n9998  6be6e177-02a9-471a-91b2-7491c2a33f45   \n9999  6089e341-5722-444d-a9ad-e742392d301d   \n\n                                        decoded_headers  \\\n0     b'\\xfd?\\x01\\x00\\x00\\x00\\x00\\x00\\x00\\x00\\x00\\x0...   \n1     b'\\xfd?\\x01\\x00\\x00\\x00\\x00\\x00\\x00\\x00\\x00\\x0...   \n2     b'\\xfd?\\x01\\x00\\x00\\x00\\x00\\x00\\x00\\x00\\x00\\x0...   \n3     b'\\xfd?\\x01\\x00\\x00\\x00\\x00\\x00\\x00\\x00\\x00\\x0...   \n4     b'\\xfd?\\x01\\x00\\x00\\x00\\x00\\x00\\x00\\x00\\x00\\x0...   \n...                                                 ...   \n9995  b'\\x80\\x00\\x00\\x00\\xff\\xff\\xff\\xff\\xff\\xffT\\xd...   \n9996  b'\\x80\\x00\\x00\\x00\\xff\\xff\\xff\\xff\\xff\\xffT\\xd...   \n9997  b'\\x80\\x00\\x00\\x00\\xff\\xff\\xff\\xff\\xff\\xffT\\xd...   \n9998  b'\\x80\\x00\\x00\\x00\\xff\\xff\\xff\\xff\\xff\\xffT\\xd...   \n9999  b'\\x80\\x00\\x00\\x00\\xff\\xff\\xff\\xff\\xff\\xffT\\xd...   \n\n                                      translated_header  \n0     {'frame_control': {'raw': 16381, 'protocol_ver...  \n1     {'frame_control': {'raw': 16381, 'protocol_ver...  \n2     {'frame_control': {'raw': 16381, 'protocol_ver...  \n3     {'frame_control': {'raw': 16381, 'protocol_ver...  \n4     {'frame_control': {'raw': 16381, 'protocol_ver...  \n...                                                 ...  \n9995  {'frame_control': {'raw': 128, 'protocol_versi...  \n9996  {'frame_control': {'raw': 128, 'protocol_versi...  \n9997  {'frame_control': {'raw': 128, 'protocol_versi...  \n9998  {'frame_control': {'raw': 128, 'protocol_versi...  \n9999  {'frame_control': {'raw': 128, 'protocol_versi...  \n\n[10000 rows x 10 columns]",
      "text/html": "<div>\n<style scoped>\n    .dataframe tbody tr th:only-of-type {\n        vertical-align: middle;\n    }\n\n    .dataframe tbody tr th {\n        vertical-align: top;\n    }\n\n    .dataframe thead th {\n        text-align: right;\n    }\n</style>\n<table border=\"1\" class=\"dataframe\">\n  <thead>\n    <tr style=\"text-align: right;\">\n      <th></th>\n      <th>device</th>\n      <th>uploaded_file_id</th>\n      <th>happened_at</th>\n      <th>rssi</th>\n      <th>channel</th>\n      <th>header</th>\n      <th>payload</th>\n      <th>id</th>\n      <th>decoded_headers</th>\n      <th>translated_header</th>\n    </tr>\n  </thead>\n  <tbody>\n    <tr>\n      <th>0</th>\n      <td>CC:7B:5C:27:9E:30</td>\n      <td>1772</td>\n      <td>1970-04-10 10:05:34</td>\n      <td>0</td>\n      <td>0</td>\n      <td>/T8BAAAAAAAAAAAAAAAAAAAAVFkIQNTY/T9YDPw/YUIYgIBH</td>\n      <td>cMP9PwEAAAAgDAYAYEf9P+Qy/T/AR/0/AQAAAAAAAAA8sg...</td>\n      <td>941936cf-bcb5-49ae-ab39-eee55264d748</td>\n      <td>b'\\xfd?\\x01\\x00\\x00\\x00\\x00\\x00\\x00\\x00\\x00\\x0...</td>\n      <td>{'frame_control': {'raw': 16381, 'protocol_ver...</td>\n    </tr>\n    <tr>\n      <th>1</th>\n      <td>CC:7B:5C:27:9E:30</td>\n      <td>1772</td>\n      <td>1970-04-10 10:05:34</td>\n      <td>0</td>\n      <td>0</td>\n      <td>/T8BAAAAAAAAAAAAAAB8w/0/iMr9P4Dh/T9YDPw/YUIYgIBH</td>\n      <td>fMP9PwEAAAAgDQYAYEf9P+Qy/T/AR/0/AQAAAAAAAABWtQ...</td>\n      <td>da58e9ab-1131-43f6-91ae-0bc6568e5f0f</td>\n      <td>b'\\xfd?\\x01\\x00\\x00\\x00\\x00\\x00\\x00\\x00\\x00\\x0...</td>\n      <td>{'frame_control': {'raw': 16381, 'protocol_ver...</td>\n    </tr>\n    <tr>\n      <th>2</th>\n      <td>CC:7B:5C:27:9E:30</td>\n      <td>1772</td>\n      <td>1970-04-10 10:05:34</td>\n      <td>0</td>\n      <td>0</td>\n      <td>/T8BAAAAAAAAAAAAAAAAAAAAVFkIQAhK/T9YDPw/YUIYgIBH</td>\n      <td>iMP9PwEAAAAgBwYAYEf9P+Qy/T/AR/0/AQAAAAAAAABHuA...</td>\n      <td>83e3b38b-8d15-4eea-ac6c-01933ac8e38d</td>\n      <td>b'\\xfd?\\x01\\x00\\x00\\x00\\x00\\x00\\x00\\x00\\x00\\x0...</td>\n      <td>{'frame_control': {'raw': 16381, 'protocol_ver...</td>\n    </tr>\n    <tr>\n      <th>3</th>\n      <td>CC:7B:5C:27:9E:30</td>\n      <td>2215</td>\n      <td>1970-04-10 10:05:34</td>\n      <td>0</td>\n      <td>0</td>\n      <td>/T8BAAAAAAAAAAAAAAAAAAAAVFkIQNTY/T9YDPw/YUIYgIBH</td>\n      <td>cMP9PwEAAAAgBwYAYEf9P+Qy/T/AR/0/AQAAAAAAAABU8Q...</td>\n      <td>44c5dd36-2719-4c40-b5c4-cc64f77bbe61</td>\n      <td>b'\\xfd?\\x01\\x00\\x00\\x00\\x00\\x00\\x00\\x00\\x00\\x0...</td>\n      <td>{'frame_control': {'raw': 16381, 'protocol_ver...</td>\n    </tr>\n    <tr>\n      <th>4</th>\n      <td>CC:7B:5C:27:9E:30</td>\n      <td>2215</td>\n      <td>1970-04-10 10:05:34</td>\n      <td>0</td>\n      <td>0</td>\n      <td>/T8BAAAAAAAAAAAAAAAAAAAAVFkIQIDh/T9YDPw/YUIYgIBH</td>\n      <td>fMP9PwEAAAAgBwYAYEf9P+Qy/T/AR/0/AQAAAAAAAABY8g...</td>\n      <td>d2aa9202-5f57-4a62-a455-8ea35cf93604</td>\n      <td>b'\\xfd?\\x01\\x00\\x00\\x00\\x00\\x00\\x00\\x00\\x00\\x0...</td>\n      <td>{'frame_control': {'raw': 16381, 'protocol_ver...</td>\n    </tr>\n    <tr>\n      <th>...</th>\n      <td>...</td>\n      <td>...</td>\n      <td>...</td>\n      <td>...</td>\n      <td>...</td>\n      <td>...</td>\n      <td>...</td>\n      <td>...</td>\n      <td>...</td>\n      <td>...</td>\n    </tr>\n    <tr>\n      <th>9995</th>\n      <td>C8:2E:18:8D:90:A4</td>\n      <td>1197</td>\n      <td>2024-11-14 17:47:20</td>\n      <td>-78</td>\n      <td>1</td>\n      <td>gAAAAP///////1TX4yu94FTX4yu94FAL2eN2bg0AAABkADEE</td>\n      <td>AAVHdWVzdAEIgoQLFiQwSGwDAQEFBAABAAAqAQAyBAwSGG...</td>\n      <td>375367f0-7548-4c65-8de7-23c2a909f41f</td>\n      <td>b'\\x80\\x00\\x00\\x00\\xff\\xff\\xff\\xff\\xff\\xffT\\xd...</td>\n      <td>{'frame_control': {'raw': 128, 'protocol_versi...</td>\n    </tr>\n    <tr>\n      <th>9996</th>\n      <td>C8:2E:18:8D:90:A4</td>\n      <td>1197</td>\n      <td>2024-11-14 17:47:20</td>\n      <td>-77</td>\n      <td>1</td>\n      <td>gAAAAP///////1TX4yu94VTX4yu94WALfPd2bg0AAABkADEE</td>\n      <td>AAdlZHVyb2FtAQiChAsWJDBIbAMBAQUEAAEAACoBADIEDB...</td>\n      <td>91bfeb9a-3714-4e77-85e1-e727893279b4</td>\n      <td>b'\\x80\\x00\\x00\\x00\\xff\\xff\\xff\\xff\\xff\\xffT\\xd...</td>\n      <td>{'frame_control': {'raw': 128, 'protocol_versi...</td>\n    </tr>\n    <tr>\n      <th>9997</th>\n      <td>C8:2E:18:8D:90:A4</td>\n      <td>1197</td>\n      <td>2024-11-14 17:47:20</td>\n      <td>-78</td>\n      <td>1</td>\n      <td>gAAAAP///////1TX4yu94lTX4yu94nAL0AB3bg0AAABkADEE</td>\n      <td>AAtKQVNsb3ZlbnNrbwEIgoQLFiQwSGwDAQEFBAABAAAqAQ...</td>\n      <td>b54ccfbb-77be-4aeb-8093-0d8d4a72bec8</td>\n      <td>b'\\x80\\x00\\x00\\x00\\xff\\xff\\xff\\xff\\xff\\xffT\\xd...</td>\n      <td>{'frame_control': {'raw': 128, 'protocol_versi...</td>\n    </tr>\n    <tr>\n      <th>9998</th>\n      <td>C8:2E:18:8D:90:A4</td>\n      <td>1197</td>\n      <td>2024-11-14 17:47:20</td>\n      <td>-77</td>\n      <td>1</td>\n      <td>gAAAAP///////1TX4yu95VTX4yu95YALMwp3bg0AAABkADEE</td>\n      <td>AAdBcHJvTVVOAQiChAsWJDBIbAMBAQUEAAEAACoBADIEDB...</td>\n      <td>6be6e177-02a9-471a-91b2-7491c2a33f45</td>\n      <td>b'\\x80\\x00\\x00\\x00\\xff\\xff\\xff\\xff\\xff\\xffT\\xd...</td>\n      <td>{'frame_control': {'raw': 128, 'protocol_versi...</td>\n    </tr>\n    <tr>\n      <th>9999</th>\n      <td>C8:2E:18:8D:90:A4</td>\n      <td>1197</td>\n      <td>2024-11-14 17:47:20</td>\n      <td>-61</td>\n      <td>1</td>\n      <td>gAAAAP///////1TX4zDSIFTX4zDSIDCVtUEuaw0AAABkADEE</td>\n      <td>AAVHdWVzdAEIgoQLFiQwSGwDAQEFBAABAAAqAQAyBAwSGG...</td>\n      <td>6089e341-5722-444d-a9ad-e742392d301d</td>\n      <td>b'\\x80\\x00\\x00\\x00\\xff\\xff\\xff\\xff\\xff\\xffT\\xd...</td>\n      <td>{'frame_control': {'raw': 128, 'protocol_versi...</td>\n    </tr>\n  </tbody>\n</table>\n<p>10000 rows × 10 columns</p>\n</div>"
     },
     "execution_count": 40,
     "metadata": {},
     "output_type": "execute_result"
    }
   ],
   "source": [
    "data = []\n",
    "translated_headers = []\n",
    "for chunk in pd.read_csv(\"D:/monadcount_l2pk_v2_10000.csv\", chunksize=100000):\n",
    "    chunk[\"decoded_headers\"] = chunk[\"header\"].apply(decode_header)\n",
    "    chunk[\"translated_header\"] = chunk[\"decoded_headers\"].apply(translate_header)\n",
    "\n",
    "    data.append(chunk)\n",
    "\n",
    "data_df = pd.concat(data, ignore_index=True)\n",
    "data_df"
   ],
   "metadata": {
    "collapsed": false,
    "ExecuteTime": {
     "end_time": "2025-02-11T21:13:59.029828Z",
     "start_time": "2025-02-11T21:13:58.830881Z"
    }
   },
   "id": "2ac2ef435010aa5c",
   "execution_count": 40
  },
  {
   "cell_type": "markdown",
   "source": [
    "Function identifies static devices based on RSSI variance, grouping packets by src_MAC. Devices with consistently low RSSI variance across sniffers are classified as static.\n",
    "-- needs another condition"
   ],
   "metadata": {
    "collapsed": false
   },
   "id": "789c01d776c7efd5"
  },
  {
   "cell_type": "code",
   "outputs": [
    {
     "data": {
      "text/plain": "           source_mac  rssi_variance detected_by_device  packet_count\n0   04:7b:cb:c5:0d:58       0.500000  C8:2E:18:8D:90:A4             2\n1   08:ea:40:bc:01:4e       0.500000  C8:2E:18:8D:90:A4             2\n2   1e:09:81:d1:9c:f4       0.000000  CC:7B:5C:27:9E:30             2\n3   1e:6f:c4:27:19:c8       0.800000  C8:2E:18:8D:90:A4             5\n4   20:2b:20:d3:34:b3       0.666667  C8:2E:18:8D:90:A4             4\n5   2e:0f:18:9b:ca:6a       0.000000  C8:2E:18:8D:90:A4             2\n6   3a:42:14:d1:f9:e8       0.000000  C8:2E:18:8D:90:A4             2\n7   3c:91:80:6a:0e:53       0.500000  C8:2E:18:8D:90:A4             2\n8   42:88:10:54:7e:9b       0.619048  CC:7B:5C:27:9E:30             7\n9   54:d7:e3:2a:59:60       0.566667  C8:2E:18:8D:90:A4             6\n10  66:76:ce:92:0d:da       0.500000  C8:2E:18:8D:90:A4             2\n11  6a:43:a3:a8:38:c6       0.500000  C8:2E:18:8D:90:A4             2\n12  7a:5f:b1:d1:92:47       0.410714  C8:2E:18:8D:90:A4             8\n13  7a:d2:cd:f0:c7:68       0.000000  C8:2E:18:8D:90:A4             2\n14  82:e4:c2:22:85:ee       0.000000  C8:2E:18:8D:90:A4             2\n15  8e:f2:91:fc:57:15       0.000000  C8:2E:18:8D:90:A4             2\n16  96:c6:ce:7f:c2:1a       0.125000  C8:2E:18:8D:90:A4             8\n17  9a:48:73:3f:e5:b9       0.266667  CC:7B:5C:27:9E:30             6\n18  a8:5b:f7:21:cf:c2       0.500000  C8:2E:18:8D:90:A4             2\n19  a8:5b:f7:22:02:e5       0.500000  C8:2E:18:8D:90:A4             2\n20  a8:93:4a:cb:eb:97       0.166667  C8:2E:18:8D:90:A4             6\n21  b2:ea:b6:31:52:45       0.500000  C8:2E:18:8D:90:A4             2\n22  ba:2f:00:36:80:4b       0.321637  C8:2E:18:8D:90:A4            19\n23  ba:8d:79:ff:d9:57       0.333333  C8:2E:18:8D:90:A4             3\n24  ba:b0:28:0c:56:fa       0.000000  C8:2E:18:8D:90:A4             2\n25  be:09:0e:9f:6e:21       0.333333  C8:2E:18:8D:90:A4             3\n26  e0:0a:f6:68:02:3b       0.333333  C8:2E:18:8D:90:A4             4\n27  e6:44:e5:3d:2b:02       0.500000  C8:2E:18:8D:90:A4             2\n28  fa:6d:73:1b:df:69       0.000000  C8:2E:18:8D:90:A4             2",
      "text/html": "<div>\n<style scoped>\n    .dataframe tbody tr th:only-of-type {\n        vertical-align: middle;\n    }\n\n    .dataframe tbody tr th {\n        vertical-align: top;\n    }\n\n    .dataframe thead th {\n        text-align: right;\n    }\n</style>\n<table border=\"1\" class=\"dataframe\">\n  <thead>\n    <tr style=\"text-align: right;\">\n      <th></th>\n      <th>source_mac</th>\n      <th>rssi_variance</th>\n      <th>detected_by_device</th>\n      <th>packet_count</th>\n    </tr>\n  </thead>\n  <tbody>\n    <tr>\n      <th>0</th>\n      <td>04:7b:cb:c5:0d:58</td>\n      <td>0.500000</td>\n      <td>C8:2E:18:8D:90:A4</td>\n      <td>2</td>\n    </tr>\n    <tr>\n      <th>1</th>\n      <td>08:ea:40:bc:01:4e</td>\n      <td>0.500000</td>\n      <td>C8:2E:18:8D:90:A4</td>\n      <td>2</td>\n    </tr>\n    <tr>\n      <th>2</th>\n      <td>1e:09:81:d1:9c:f4</td>\n      <td>0.000000</td>\n      <td>CC:7B:5C:27:9E:30</td>\n      <td>2</td>\n    </tr>\n    <tr>\n      <th>3</th>\n      <td>1e:6f:c4:27:19:c8</td>\n      <td>0.800000</td>\n      <td>C8:2E:18:8D:90:A4</td>\n      <td>5</td>\n    </tr>\n    <tr>\n      <th>4</th>\n      <td>20:2b:20:d3:34:b3</td>\n      <td>0.666667</td>\n      <td>C8:2E:18:8D:90:A4</td>\n      <td>4</td>\n    </tr>\n    <tr>\n      <th>5</th>\n      <td>2e:0f:18:9b:ca:6a</td>\n      <td>0.000000</td>\n      <td>C8:2E:18:8D:90:A4</td>\n      <td>2</td>\n    </tr>\n    <tr>\n      <th>6</th>\n      <td>3a:42:14:d1:f9:e8</td>\n      <td>0.000000</td>\n      <td>C8:2E:18:8D:90:A4</td>\n      <td>2</td>\n    </tr>\n    <tr>\n      <th>7</th>\n      <td>3c:91:80:6a:0e:53</td>\n      <td>0.500000</td>\n      <td>C8:2E:18:8D:90:A4</td>\n      <td>2</td>\n    </tr>\n    <tr>\n      <th>8</th>\n      <td>42:88:10:54:7e:9b</td>\n      <td>0.619048</td>\n      <td>CC:7B:5C:27:9E:30</td>\n      <td>7</td>\n    </tr>\n    <tr>\n      <th>9</th>\n      <td>54:d7:e3:2a:59:60</td>\n      <td>0.566667</td>\n      <td>C8:2E:18:8D:90:A4</td>\n      <td>6</td>\n    </tr>\n    <tr>\n      <th>10</th>\n      <td>66:76:ce:92:0d:da</td>\n      <td>0.500000</td>\n      <td>C8:2E:18:8D:90:A4</td>\n      <td>2</td>\n    </tr>\n    <tr>\n      <th>11</th>\n      <td>6a:43:a3:a8:38:c6</td>\n      <td>0.500000</td>\n      <td>C8:2E:18:8D:90:A4</td>\n      <td>2</td>\n    </tr>\n    <tr>\n      <th>12</th>\n      <td>7a:5f:b1:d1:92:47</td>\n      <td>0.410714</td>\n      <td>C8:2E:18:8D:90:A4</td>\n      <td>8</td>\n    </tr>\n    <tr>\n      <th>13</th>\n      <td>7a:d2:cd:f0:c7:68</td>\n      <td>0.000000</td>\n      <td>C8:2E:18:8D:90:A4</td>\n      <td>2</td>\n    </tr>\n    <tr>\n      <th>14</th>\n      <td>82:e4:c2:22:85:ee</td>\n      <td>0.000000</td>\n      <td>C8:2E:18:8D:90:A4</td>\n      <td>2</td>\n    </tr>\n    <tr>\n      <th>15</th>\n      <td>8e:f2:91:fc:57:15</td>\n      <td>0.000000</td>\n      <td>C8:2E:18:8D:90:A4</td>\n      <td>2</td>\n    </tr>\n    <tr>\n      <th>16</th>\n      <td>96:c6:ce:7f:c2:1a</td>\n      <td>0.125000</td>\n      <td>C8:2E:18:8D:90:A4</td>\n      <td>8</td>\n    </tr>\n    <tr>\n      <th>17</th>\n      <td>9a:48:73:3f:e5:b9</td>\n      <td>0.266667</td>\n      <td>CC:7B:5C:27:9E:30</td>\n      <td>6</td>\n    </tr>\n    <tr>\n      <th>18</th>\n      <td>a8:5b:f7:21:cf:c2</td>\n      <td>0.500000</td>\n      <td>C8:2E:18:8D:90:A4</td>\n      <td>2</td>\n    </tr>\n    <tr>\n      <th>19</th>\n      <td>a8:5b:f7:22:02:e5</td>\n      <td>0.500000</td>\n      <td>C8:2E:18:8D:90:A4</td>\n      <td>2</td>\n    </tr>\n    <tr>\n      <th>20</th>\n      <td>a8:93:4a:cb:eb:97</td>\n      <td>0.166667</td>\n      <td>C8:2E:18:8D:90:A4</td>\n      <td>6</td>\n    </tr>\n    <tr>\n      <th>21</th>\n      <td>b2:ea:b6:31:52:45</td>\n      <td>0.500000</td>\n      <td>C8:2E:18:8D:90:A4</td>\n      <td>2</td>\n    </tr>\n    <tr>\n      <th>22</th>\n      <td>ba:2f:00:36:80:4b</td>\n      <td>0.321637</td>\n      <td>C8:2E:18:8D:90:A4</td>\n      <td>19</td>\n    </tr>\n    <tr>\n      <th>23</th>\n      <td>ba:8d:79:ff:d9:57</td>\n      <td>0.333333</td>\n      <td>C8:2E:18:8D:90:A4</td>\n      <td>3</td>\n    </tr>\n    <tr>\n      <th>24</th>\n      <td>ba:b0:28:0c:56:fa</td>\n      <td>0.000000</td>\n      <td>C8:2E:18:8D:90:A4</td>\n      <td>2</td>\n    </tr>\n    <tr>\n      <th>25</th>\n      <td>be:09:0e:9f:6e:21</td>\n      <td>0.333333</td>\n      <td>C8:2E:18:8D:90:A4</td>\n      <td>3</td>\n    </tr>\n    <tr>\n      <th>26</th>\n      <td>e0:0a:f6:68:02:3b</td>\n      <td>0.333333</td>\n      <td>C8:2E:18:8D:90:A4</td>\n      <td>4</td>\n    </tr>\n    <tr>\n      <th>27</th>\n      <td>e6:44:e5:3d:2b:02</td>\n      <td>0.500000</td>\n      <td>C8:2E:18:8D:90:A4</td>\n      <td>2</td>\n    </tr>\n    <tr>\n      <th>28</th>\n      <td>fa:6d:73:1b:df:69</td>\n      <td>0.000000</td>\n      <td>C8:2E:18:8D:90:A4</td>\n      <td>2</td>\n    </tr>\n  </tbody>\n</table>\n</div>"
     },
     "execution_count": 41,
     "metadata": {},
     "output_type": "execute_result"
    }
   ],
   "source": [
    "def detect_static_devices(datadf, rssi_threshold=1, chunksize=100000):\n",
    "    aggregator = {}\n",
    "\n",
    "    for start in range(0, len(datadf), chunksize):\n",
    "        chunk = datadf.iloc[start : start + chunksize]\n",
    "        # group by source_mac in the current chunk\n",
    "        for source_mac, group in chunk.groupby(\"source_mac\"):\n",
    "            # if first time seeing MAC\n",
    "            if source_mac not in aggregator:\n",
    "                aggregator[source_mac] = {\n",
    "                    \"sniffer_rssi\": defaultdict(list),\n",
    "                    \"sniffer_packet_count\": defaultdict(int),\n",
    "                    \"total_packet_count\": 0\n",
    "                }\n",
    "            \n",
    "            # now group by sniffer in this chunk\n",
    "            for sniffer_id, sniffer_group in group.groupby(\"device\"):\n",
    "                rssi_vals = sniffer_group[\"rssi\"].tolist()\n",
    "                aggregator[source_mac][\"sniffer_rssi\"][sniffer_id].extend(rssi_vals)\n",
    "                aggregator[source_mac][\"sniffer_packet_count\"][sniffer_id] += len(rssi_vals)\n",
    "            \n",
    "            aggregator[source_mac][\"total_packet_count\"] += len(group)\n",
    "\n",
    "    static_devices = []\n",
    "    for source_mac, data in aggregator.items():\n",
    "        sniffer_rssi = data[\"sniffer_rssi\"]\n",
    "        sniffer_packet_count = data[\"sniffer_packet_count\"]\n",
    "        total_packets = data[\"total_packet_count\"]\n",
    "\n",
    "        sniffer_variances = {}\n",
    "        all_below_threshold = True\n",
    "        max_variance = 0.0\n",
    "\n",
    "        for sniffer_id, rssi_values in sniffer_rssi.items():\n",
    "            variance = pd.Series(rssi_values).var()\n",
    "            sniffer_variances[sniffer_id] = variance\n",
    "            if pd.isna(variance) or variance >= rssi_threshold:\n",
    "                all_below_threshold = False\n",
    "                break\n",
    "            if variance > max_variance:\n",
    "                max_variance = variance\n",
    "\n",
    "        if all_below_threshold:            \n",
    "            detected_by_device = \",\".join(sniffer_rssi.keys())\n",
    "            static_devices.append({\n",
    "                \"source_mac\": source_mac,\n",
    "                \"rssi_variance\": max_variance,\n",
    "                \"detected_by_device\": detected_by_device,\n",
    "                \"packet_count\": total_packets,\n",
    "            })\n",
    "    return pd.DataFrame(static_devices)\n",
    "\n",
    "def extract_source_mac(row_dict):\n",
    "    if not row_dict or \"frame_control\" not in row_dict or \"addresses\" not in row_dict:\n",
    "        return None\n",
    "    \n",
    "    fc = row_dict[\"frame_control\"]\n",
    "    addrs = row_dict[\"addresses\"]\n",
    "    \n",
    "    to_ds = fc.get(\"to_ds\", False)\n",
    "    from_ds = fc.get(\"from_ds\", False)\n",
    "\n",
    "    # 802.11 logic\n",
    "    if not to_ds and not from_ds:\n",
    "        return addrs.get(\"address2\")\n",
    "    elif to_ds and not from_ds:\n",
    "        return addrs.get(\"address2\")\n",
    "    elif not to_ds and from_ds:\n",
    "        return addrs.get(\"address3\")\n",
    "    elif to_ds and from_ds:\n",
    "        # WDS bridging\n",
    "        return addrs.get(\"address4\")\n",
    "    \n",
    "    return None\n",
    "\n",
    "data_df[\"source_mac\"] = data_df[\"translated_header\"].apply(extract_source_mac)\n",
    "\n",
    "static_devices = detect_static_devices(data_df)\n",
    "static_devices"
   ],
   "metadata": {
    "collapsed": false,
    "ExecuteTime": {
     "end_time": "2025-02-11T21:13:59.286910Z",
     "start_time": "2025-02-11T21:13:59.030838Z"
    }
   },
   "id": "f5e3a447570406d7",
   "execution_count": 41
  },
  {
   "cell_type": "markdown",
   "source": [
    "Processes timestamp data to generate a heatmap of event occurrences by date and hour to check data continuity"
   ],
   "metadata": {
    "collapsed": false
   },
   "id": "208b12d91c416c2c"
  },
  {
   "cell_type": "code",
   "outputs": [
    {
     "name": "stderr",
     "output_type": "stream",
     "text": [
      "C:\\Users\\matus\\AppData\\Local\\Temp\\ipykernel_23812\\3393818034.py:4: SettingWithCopyWarning: \n",
      "A value is trying to be set on a copy of a slice from a DataFrame.\n",
      "Try using .loc[row_indexer,col_indexer] = value instead\n",
      "\n",
      "See the caveats in the documentation: https://pandas.pydata.org/pandas-docs/stable/user_guide/indexing.html#returning-a-view-versus-a-copy\n",
      "  data_df['date'] = data_df['happened_at'].dt.date\n",
      "C:\\Users\\matus\\AppData\\Local\\Temp\\ipykernel_23812\\3393818034.py:5: SettingWithCopyWarning: \n",
      "A value is trying to be set on a copy of a slice from a DataFrame.\n",
      "Try using .loc[row_indexer,col_indexer] = value instead\n",
      "\n",
      "See the caveats in the documentation: https://pandas.pydata.org/pandas-docs/stable/user_guide/indexing.html#returning-a-view-versus-a-copy\n",
      "  data_df['minute_of_day'] = data_df['happened_at'].dt.hour * 60 + data_df['happened_at'].dt.minute\n"
     ]
    }
   ],
   "source": [
    "data_df['happened_at'] = pd.to_datetime(data_df['happened_at'], errors='coerce')\n",
    "data_df = data_df[data_df['happened_at'].dt.year >= 2024]\n",
    "\n",
    "data_df['date'] = data_df['happened_at'].dt.date\n",
    "data_df['minute_of_day'] = data_df['happened_at'].dt.hour * 60 + data_df['happened_at'].dt.minute\n",
    "\n",
    "all_dates = sorted(data_df['date'].unique())\n",
    "\n",
    "devices = data_df['device'].unique()\n",
    "\n",
    "def minute_to_hhmm(m):\n",
    "    hh = m // 60\n",
    "    mm = m % 60\n",
    "    return f\"{hh:02d}:{mm:02d}\"\n",
    "\n",
    "all_minutes = np.arange(1440)\n",
    "\n",
    "for device in devices:\n",
    "    device_data = data_df[data_df['device'] == device]\n",
    "\n",
    "    heatmap_data = (\n",
    "        device_data\n",
    "        .groupby(['date', 'minute_of_day'])\n",
    "        .size()\n",
    "        .reset_index(name='event_count')\n",
    "    )\n",
    "\n",
    "    heatmap_data['has_data'] = (heatmap_data['event_count'] > 0).astype(int)\n",
    "\n",
    "    heatmap_pivot = heatmap_data.pivot(\n",
    "        index='date',\n",
    "        columns='minute_of_day',\n",
    "        values='has_data'\n",
    "    ).fillna(0)\n",
    "\n",
    "    heatmap_pivot = heatmap_pivot.reindex(columns=all_minutes, fill_value=0)\n",
    "    heatmap_pivot = heatmap_pivot.reindex(index=all_dates, fill_value=0)\n",
    "\n",
    "    plt.figure(figsize=(100, 10))\n",
    "    sns.heatmap(\n",
    "        heatmap_pivot,\n",
    "        cmap=\"Reds\",\n",
    "        cbar=False,\n",
    "        linewidths=0.5,\n",
    "        linecolor=\"black\"\n",
    "    )\n",
    "\n",
    "    plt.xlabel(\"Time (HH:MM)\")\n",
    "    plt.ylabel(\"Date\")\n",
    "    plt.title(f\"Heatmap of Data Presence by Minute of the Day\\nDevice: {device}\")\n",
    "\n",
    "    ticks_step = 5\n",
    "    xtick_locs = range(0, 1440, ticks_step)\n",
    "    xtick_labels = [minute_to_hhmm(m) for m in xtick_locs]\n",
    "    plt.xticks(xtick_locs, xtick_labels, rotation=90)\n",
    "    \n",
    "    plt.yticks(rotation=0)\n",
    "    device = device.replace(\":\", \"_\").replace(\"/\", \"_\")\n",
    "    \n",
    "    plt.savefig(f\"heatmap_{device}.png\", dpi=300, bbox_inches='tight')\n",
    "    plt.close()"
   ],
   "metadata": {
    "collapsed": false,
    "ExecuteTime": {
     "end_time": "2025-02-11T21:14:09.591304Z",
     "start_time": "2025-02-11T21:13:59.288426Z"
    }
   },
   "id": "a2369a3ae1a6c4aa",
   "execution_count": 42
  },
  {
   "cell_type": "markdown",
   "source": [
    "Checks if the data is continouos."
   ],
   "metadata": {
    "collapsed": false
   },
   "id": "7d33f662e2128a89"
  },
  {
   "cell_type": "code",
   "outputs": [
    {
     "name": "stdout",
     "output_type": "stream",
     "text": [
      "count                         9988\n",
      "mean     0 days 00:00:00.015718862\n",
      "std      0 days 00:00:00.127571041\n",
      "min                0 days 00:00:00\n",
      "25%                0 days 00:00:00\n",
      "50%                0 days 00:00:00\n",
      "75%                0 days 00:00:00\n",
      "max                0 days 00:00:02\n",
      "Name: happened_at, dtype: object\n",
      "happened_at\n",
      "0 days 00:00:00    9835\n",
      "0 days 00:00:01     149\n",
      "0 days 00:00:02       4\n",
      "Name: count, dtype: int64\n",
      "None\n"
     ]
    },
    {
     "name": "stderr",
     "output_type": "stream",
     "text": [
      "C:\\Users\\matus\\AppData\\Local\\Temp\\ipykernel_23812\\3650378062.py:1: SettingWithCopyWarning: \n",
      "A value is trying to be set on a copy of a slice from a DataFrame.\n",
      "Try using .loc[row_indexer,col_indexer] = value instead\n",
      "\n",
      "See the caveats in the documentation: https://pandas.pydata.org/pandas-docs/stable/user_guide/indexing.html#returning-a-view-versus-a-copy\n",
      "  data_df[\"happened_at\"] = pd.to_datetime(data_df[\"happened_at\"])\n"
     ]
    }
   ],
   "source": [
    "data_df[\"happened_at\"] = pd.to_datetime(data_df[\"happened_at\"])\n",
    "data_df = data_df.sort_values(\"happened_at\")\n",
    "time_diffs = data_df[\"happened_at\"].diff()\n",
    "\n",
    "print(time_diffs.describe())\n",
    "print(time_diffs.value_counts())\n",
    "\n",
    "df_indexed = data_df.set_index(\"happened_at\")\n",
    "\n",
    "freq = pd.infer_freq(df_indexed.index)\n",
    "print(freq)"
   ],
   "metadata": {
    "collapsed": false,
    "ExecuteTime": {
     "end_time": "2025-02-11T21:14:09.620356Z",
     "start_time": "2025-02-11T21:14:09.593311Z"
    }
   },
   "id": "1f8fa4ee4c444748",
   "execution_count": 43
  },
  {
   "cell_type": "code",
   "outputs": [],
   "source": [
    "oui_df = pd.read_csv(\"oui.csv\")"
   ],
   "metadata": {
    "collapsed": false,
    "ExecuteTime": {
     "end_time": "2025-02-11T21:14:09.691799Z",
     "start_time": "2025-02-11T21:14:09.621362Z"
    }
   },
   "id": "73ed9cee1c3c928e",
   "execution_count": 44
  },
  {
   "cell_type": "markdown",
   "source": [
    "Extracts the OUI from MAC addresses and maps them to vendor names based on IEE oui DB."
   ],
   "metadata": {
    "collapsed": false
   },
   "id": "9e8cf598dcf33b11"
  },
  {
   "cell_type": "code",
   "outputs": [
    {
     "name": "stdout",
     "output_type": "stream",
     "text": [
      "           source_mac     OUI                      vendor\n",
      "11  54:d7:e3:2b:bd:e0  54D7E3  Hewlett Packard Enterprise\n",
      "73  84:b8:02:66:72:34  84B802          Cisco Systems, Inc\n",
      "72  cc:7b:5c:27:9e:30  CC7B5C              Espressif Inc.\n",
      "71  cc:7b:5c:27:9e:30  CC7B5C              Espressif Inc.\n",
      "70  84:b8:02:66:72:34  84B802          Cisco Systems, Inc\n"
     ]
    }
   ],
   "source": [
    "def process_mac(mac):\n",
    "    return mac.replace(\":\", \"\").upper()[:6]\n",
    "data_df[\"OUI\"] = data_df[\"source_mac\"].apply(process_mac)\n",
    "\n",
    "oui_vendor_mapping = dict(zip(oui_df[\"Assignment\"], oui_df[\"Organization Name\"]))\n",
    "data_df[\"vendor\"] = data_df[\"OUI\"].map(oui_vendor_mapping).fillna(\"Unknown\")\n",
    "print(data_df[[\"source_mac\", \"OUI\", \"vendor\"]].head())\n"
   ],
   "metadata": {
    "collapsed": false,
    "ExecuteTime": {
     "end_time": "2025-02-11T21:14:09.728621Z",
     "start_time": "2025-02-11T21:14:09.692805Z"
    }
   },
   "id": "2b242b1be69440db",
   "execution_count": 45
  },
  {
   "cell_type": "code",
   "outputs": [
    {
     "data": {
      "text/plain": "19"
     },
     "execution_count": 46,
     "metadata": {},
     "output_type": "execute_result"
    }
   ],
   "source": [
    "data_df[\"vendor\"].nunique()"
   ],
   "metadata": {
    "collapsed": false,
    "ExecuteTime": {
     "end_time": "2025-02-11T21:14:09.735523Z",
     "start_time": "2025-02-11T21:14:09.729626Z"
    }
   },
   "id": "8eafbc99298f3410",
   "execution_count": 46
  },
  {
   "cell_type": "code",
   "outputs": [
    {
     "name": "stdout",
     "output_type": "stream",
     "text": [
      "vendor\n",
      "Hewlett Packard Enterprise                          6404\n",
      "Unknown                                             1602\n",
      "Cisco Systems, Inc                                   714\n",
      "Espressif Inc.                                       615\n",
      "Intel Corporate                                      309\n",
      "TP-LINK TECHNOLOGIES CO.,LTD.                        102\n",
      "Apple, Inc.                                           64\n",
      "CHONGQING FUGUI ELECTRONICS CO.,LTD.                  39\n",
      "AzureWave Technology Inc.                             37\n",
      "CLOUD NETWORK TECHNOLOGY SINGAPORE PTE. LTD.          37\n",
      "Liteon Technology Corporation                         26\n",
      "Samsung Electronics Co.,Ltd                           19\n",
      "Xiaomi Communications Co Ltd                           8\n",
      "TP-LINK CORPORATION PTE. LTD.                          4\n",
      "Wistron Neweb Corporation                              3\n",
      "Universal Global Scientific Industrial Co., Ltd.       2\n",
      "SHENZHEN BILIAN ELECTRONIC CO.，LTD                     2\n",
      "Raspberry Pi (Trading) Ltd                             1\n",
      "XEROX CORPORATION                                      1\n",
      "Name: count, dtype: int64\n"
     ]
    },
    {
     "name": "stderr",
     "output_type": "stream",
     "text": [
      "C:\\Users\\matus\\PycharmProjects\\BP\\.venv\\Lib\\site-packages\\IPython\\core\\pylabtools.py:170: UserWarning: Glyph 65292 (\\N{FULLWIDTH COMMA}) missing from font(s) Arial.\n",
      "  fig.canvas.print_figure(bytes_io, **kw)\n"
     ]
    },
    {
     "data": {
      "text/plain": "<Figure size 1500x600 with 1 Axes>",
      "image/png": "[encoded data removed]"
     },
     "metadata": {},
     "output_type": "display_data"
    }
   ],
   "source": [
    "vendor_counts = data_df[\"vendor\"].value_counts()\n",
    "print(vendor_counts)\n",
    "\n",
    "plt.figure(figsize=(15, 6))\n",
    "plt.bar(vendor_counts.index, vendor_counts.values, log=True)\n",
    "plt.xlabel(\"Vendor\")\n",
    "plt.ylabel(\"Count\")\n",
    "plt.title(\"MAC Address Vendor Distribution (log scale)\")\n",
    "plt.xticks(rotation=90)\n",
    "plt.show()"
   ],
   "metadata": {
    "collapsed": false,
    "ExecuteTime": {
     "end_time": "2025-02-11T21:14:10.069163Z",
     "start_time": "2025-02-11T21:14:09.736531Z"
    }
   },
   "id": "53bb4f8cace301b0",
   "execution_count": 47
  },
  {
   "cell_type": "code",
   "outputs": [
    {
     "data": {
      "text/plain": "                 device  uploaded_file_id         happened_at  rssi  channel  \\\n11    C8:2E:18:8D:90:A4              1197 2024-11-14 17:44:43   -77        1   \n73    C8:2E:18:8D:90:A4              1197 2024-11-14 17:44:43   -63        1   \n72    C8:2E:18:8D:90:A4              1197 2024-11-14 17:44:43   -86        1   \n71    C8:2E:18:8D:90:A4              1197 2024-11-14 17:44:43   -86        1   \n70    C8:2E:18:8D:90:A4              1197 2024-11-14 17:44:43   -63        1   \n...                 ...               ...                 ...   ...      ...   \n9988  C8:2E:18:8D:90:A4              1197 2024-11-14 17:47:20   -77        1   \n9987  C8:2E:18:8D:90:A4              1197 2024-11-14 17:47:20   -78        1   \n9986  C8:2E:18:8D:90:A4              1197 2024-11-14 17:47:20   -78        1   \n9991  C8:2E:18:8D:90:A4              1197 2024-11-14 17:47:20   -60        1   \n9999  C8:2E:18:8D:90:A4              1197 2024-11-14 17:47:20   -61        1   \n\n                                                header  \\\n11    gAAAAP///////1TX4yu94FTX4yu94KAqhWEjZQ0AAABkADEE   \n73    iEIwAMx7XCeeMFTX4zDSIYS4AmZyNNCnAACJGgAgAAAAAHyP   \n72    iEkwAFTX4zDSIcx7XCeeMIS4AmZyNFDAAAAZLAAgAAAAAACE   \n71    iEkwAFTX4zDSIcx7XCeeMIS4AmZyNDDAAAAXLAAgAAAAANbZ   \n70    iEIwAMx7XCeeMFTX4zDSIYS4AmZyNMCnAACIGgAgAAAAAOJB   \n...                                                ...   \n9988  gAAAAP///////1TX4yu94lTX4yu94jAL1Xl1bg0AAABkADEE   \n9987  gAAAAP///////1TX4yu94VTX4yu94SALinB1bg0AAABkADEE   \n9986  gAAAAP///////1TX4yu94FTX4yu94BALPF11bg0AAABkADEE   \n9991  gAAAAP///////1TX4zDSIVTX4zDSIQCVRNIsaw0AAABkADEE   \n9999  gAAAAP///////1TX4zDSIFTX4zDSIDCVtUEuaw0AAABkADEE   \n\n                                                payload  \\\n11    AAVHdWVzdAEIgoQLFiQwSGwDAQEFBAABAAAqAQAyBAwSGG...   \n73                                                  NaN   \n72                                                  NaN   \n71                                                  NaN   \n70                                                  NaN   \n...                                                 ...   \n9988  AAtKQVNsb3ZlbnNrbwEIgoQLFiQwSGwDAQEFBAABAAAqAQ...   \n9987  AAdlZHVyb2FtAQiChAsWJDBIbAMBAQUEAAEAACoBADIEDB...   \n9986  AAVHdWVzdAEIgoQLFiQwSGwDAQEFBAABAAAqAQAyBAwSGG...   \n9991  AAdlZHVyb2FtAQiChAsWJDBIbAMBAQUEAAEAACoBADIEDB...   \n9999  AAVHdWVzdAEIgoQLFiQwSGwDAQEFBAABAAAqAQAyBAwSGG...   \n\n                                        id  \\\n11    f0d94019-6bff-4360-9472-d9ef91133116   \n73    8bf9077c-b6ae-4e08-826d-04efa85eba81   \n72    16b54cf4-dce1-454b-962f-1c430f0f5018   \n71    709ba6e4-743a-4bf4-bd9f-eb1e5ade6baa   \n70    52d4d2b5-9a27-4e7c-aa8a-fd21790e4b81   \n...                                    ...   \n9988  b9c228b9-97c1-48cc-82cb-2655e7124814   \n9987  3b91ca17-643a-4d5a-812c-e09a50e11ffa   \n9986  02d53103-cd7e-4f17-be7a-9782d5f4cc33   \n9991  9a62214f-007f-4241-bd43-60673c79fd51   \n9999  6089e341-5722-444d-a9ad-e742392d301d   \n\n                                        decoded_headers  \\\n11    b'\\x80\\x00\\x00\\x00\\xff\\xff\\xff\\xff\\xff\\xffT\\xd...   \n73    b\"\\x88B0\\x00\\xcc{\\\\'\\x9e0T\\xd7\\xe30\\xd2!\\x84\\x...   \n72    b\"\\x88I0\\x00T\\xd7\\xe30\\xd2!\\xcc{\\\\'\\x9e0\\x84\\x...   \n71    b\"\\x88I0\\x00T\\xd7\\xe30\\xd2!\\xcc{\\\\'\\x9e0\\x84\\x...   \n70    b\"\\x88B0\\x00\\xcc{\\\\'\\x9e0T\\xd7\\xe30\\xd2!\\x84\\x...   \n...                                                 ...   \n9988  b'\\x80\\x00\\x00\\x00\\xff\\xff\\xff\\xff\\xff\\xffT\\xd...   \n9987  b'\\x80\\x00\\x00\\x00\\xff\\xff\\xff\\xff\\xff\\xffT\\xd...   \n9986  b'\\x80\\x00\\x00\\x00\\xff\\xff\\xff\\xff\\xff\\xffT\\xd...   \n9991  b'\\x80\\x00\\x00\\x00\\xff\\xff\\xff\\xff\\xff\\xffT\\xd...   \n9999  b'\\x80\\x00\\x00\\x00\\xff\\xff\\xff\\xff\\xff\\xffT\\xd...   \n\n                                      translated_header         source_mac  \\\n11    {'frame_control': {'raw': 128, 'protocol_versi...  54:d7:e3:2b:bd:e0   \n73    {'frame_control': {'raw': 17032, 'protocol_ver...  84:b8:02:66:72:34   \n72    {'frame_control': {'raw': 18824, 'protocol_ver...  cc:7b:5c:27:9e:30   \n71    {'frame_control': {'raw': 18824, 'protocol_ver...  cc:7b:5c:27:9e:30   \n70    {'frame_control': {'raw': 17032, 'protocol_ver...  84:b8:02:66:72:34   \n...                                                 ...                ...   \n9988  {'frame_control': {'raw': 128, 'protocol_versi...  54:d7:e3:2b:bd:e2   \n9987  {'frame_control': {'raw': 128, 'protocol_versi...  54:d7:e3:2b:bd:e1   \n9986  {'frame_control': {'raw': 128, 'protocol_versi...  54:d7:e3:2b:bd:e0   \n9991  {'frame_control': {'raw': 128, 'protocol_versi...  54:d7:e3:30:d2:21   \n9999  {'frame_control': {'raw': 128, 'protocol_versi...  54:d7:e3:30:d2:20   \n\n            date  minute_of_day     OUI                      vendor  \n11    2024-11-14           1064  54D7E3  Hewlett Packard Enterprise  \n73    2024-11-14           1064  84B802          Cisco Systems, Inc  \n72    2024-11-14           1064  CC7B5C              Espressif Inc.  \n71    2024-11-14           1064  CC7B5C              Espressif Inc.  \n70    2024-11-14           1064  84B802          Cisco Systems, Inc  \n...          ...            ...     ...                         ...  \n9988  2024-11-14           1067  54D7E3  Hewlett Packard Enterprise  \n9987  2024-11-14           1067  54D7E3  Hewlett Packard Enterprise  \n9986  2024-11-14           1067  54D7E3  Hewlett Packard Enterprise  \n9991  2024-11-14           1067  54D7E3  Hewlett Packard Enterprise  \n9999  2024-11-14           1067  54D7E3  Hewlett Packard Enterprise  \n\n[9989 rows x 15 columns]",
      "text/html": "<div>\n<style scoped>\n    .dataframe tbody tr th:only-of-type {\n        vertical-align: middle;\n    }\n\n    .dataframe tbody tr th {\n        vertical-align: top;\n    }\n\n    .dataframe thead th {\n        text-align: right;\n    }\n</style>\n<table border=\"1\" class=\"dataframe\">\n  <thead>\n    <tr style=\"text-align: right;\">\n      <th></th>\n      <th>device</th>\n      <th>uploaded_file_id</th>\n      <th>happened_at</th>\n      <th>rssi</th>\n      <th>channel</th>\n      <th>header</th>\n      <th>payload</th>\n      <th>id</th>\n      <th>decoded_headers</th>\n      <th>translated_header</th>\n      <th>source_mac</th>\n      <th>date</th>\n      <th>minute_of_day</th>\n      <th>OUI</th>\n      <th>vendor</th>\n    </tr>\n  </thead>\n  <tbody>\n    <tr>\n      <th>11</th>\n      <td>C8:2E:18:8D:90:A4</td>\n      <td>1197</td>\n      <td>2024-11-14 17:44:43</td>\n      <td>-77</td>\n      <td>1</td>\n      <td>gAAAAP///////1TX4yu94FTX4yu94KAqhWEjZQ0AAABkADEE</td>\n      <td>AAVHdWVzdAEIgoQLFiQwSGwDAQEFBAABAAAqAQAyBAwSGG...</td>\n      <td>f0d94019-6bff-4360-9472-d9ef91133116</td>\n      <td>b'\\x80\\x00\\x00\\x00\\xff\\xff\\xff\\xff\\xff\\xffT\\xd...</td>\n      <td>{'frame_control': {'raw': 128, 'protocol_versi...</td>\n      <td>54:d7:e3:2b:bd:e0</td>\n      <td>2024-11-14</td>\n      <td>1064</td>\n      <td>54D7E3</td>\n      <td>Hewlett Packard Enterprise</td>\n    </tr>\n    <tr>\n      <th>73</th>\n      <td>C8:2E:18:8D:90:A4</td>\n      <td>1197</td>\n      <td>2024-11-14 17:44:43</td>\n      <td>-63</td>\n      <td>1</td>\n      <td>iEIwAMx7XCeeMFTX4zDSIYS4AmZyNNCnAACJGgAgAAAAAHyP</td>\n      <td>NaN</td>\n      <td>8bf9077c-b6ae-4e08-826d-04efa85eba81</td>\n      <td>b\"\\x88B0\\x00\\xcc{\\\\'\\x9e0T\\xd7\\xe30\\xd2!\\x84\\x...</td>\n      <td>{'frame_control': {'raw': 17032, 'protocol_ver...</td>\n      <td>84:b8:02:66:72:34</td>\n      <td>2024-11-14</td>\n      <td>1064</td>\n      <td>84B802</td>\n      <td>Cisco Systems, Inc</td>\n    </tr>\n    <tr>\n      <th>72</th>\n      <td>C8:2E:18:8D:90:A4</td>\n      <td>1197</td>\n      <td>2024-11-14 17:44:43</td>\n      <td>-86</td>\n      <td>1</td>\n      <td>iEkwAFTX4zDSIcx7XCeeMIS4AmZyNFDAAAAZLAAgAAAAAACE</td>\n      <td>NaN</td>\n      <td>16b54cf4-dce1-454b-962f-1c430f0f5018</td>\n      <td>b\"\\x88I0\\x00T\\xd7\\xe30\\xd2!\\xcc{\\\\'\\x9e0\\x84\\x...</td>\n      <td>{'frame_control': {'raw': 18824, 'protocol_ver...</td>\n      <td>cc:7b:5c:27:9e:30</td>\n      <td>2024-11-14</td>\n      <td>1064</td>\n      <td>CC7B5C</td>\n      <td>Espressif Inc.</td>\n    </tr>\n    <tr>\n      <th>71</th>\n      <td>C8:2E:18:8D:90:A4</td>\n      <td>1197</td>\n      <td>2024-11-14 17:44:43</td>\n      <td>-86</td>\n      <td>1</td>\n      <td>iEkwAFTX4zDSIcx7XCeeMIS4AmZyNDDAAAAXLAAgAAAAANbZ</td>\n      <td>NaN</td>\n      <td>709ba6e4-743a-4bf4-bd9f-eb1e5ade6baa</td>\n      <td>b\"\\x88I0\\x00T\\xd7\\xe30\\xd2!\\xcc{\\\\'\\x9e0\\x84\\x...</td>\n      <td>{'frame_control': {'raw': 18824, 'protocol_ver...</td>\n      <td>cc:7b:5c:27:9e:30</td>\n      <td>2024-11-14</td>\n      <td>1064</td>\n      <td>CC7B5C</td>\n      <td>Espressif Inc.</td>\n    </tr>\n    <tr>\n      <th>70</th>\n      <td>C8:2E:18:8D:90:A4</td>\n      <td>1197</td>\n      <td>2024-11-14 17:44:43</td>\n      <td>-63</td>\n      <td>1</td>\n      <td>iEIwAMx7XCeeMFTX4zDSIYS4AmZyNMCnAACIGgAgAAAAAOJB</td>\n      <td>NaN</td>\n      <td>52d4d2b5-9a27-4e7c-aa8a-fd21790e4b81</td>\n      <td>b\"\\x88B0\\x00\\xcc{\\\\'\\x9e0T\\xd7\\xe30\\xd2!\\x84\\x...</td>\n      <td>{'frame_control': {'raw': 17032, 'protocol_ver...</td>\n      <td>84:b8:02:66:72:34</td>\n      <td>2024-11-14</td>\n      <td>1064</td>\n      <td>84B802</td>\n      <td>Cisco Systems, Inc</td>\n    </tr>\n    <tr>\n      <th>...</th>\n      <td>...</td>\n      <td>...</td>\n      <td>...</td>\n      <td>...</td>\n      <td>...</td>\n      <td>...</td>\n      <td>...</td>\n      <td>...</td>\n      <td>...</td>\n      <td>...</td>\n      <td>...</td>\n      <td>...</td>\n      <td>...</td>\n      <td>...</td>\n      <td>...</td>\n    </tr>\n    <tr>\n      <th>9988</th>\n      <td>C8:2E:18:8D:90:A4</td>\n      <td>1197</td>\n      <td>2024-11-14 17:47:20</td>\n      <td>-77</td>\n      <td>1</td>\n      <td>gAAAAP///////1TX4yu94lTX4yu94jAL1Xl1bg0AAABkADEE</td>\n      <td>AAtKQVNsb3ZlbnNrbwEIgoQLFiQwSGwDAQEFBAABAAAqAQ...</td>\n      <td>b9c228b9-97c1-48cc-82cb-2655e7124814</td>\n      <td>b'\\x80\\x00\\x00\\x00\\xff\\xff\\xff\\xff\\xff\\xffT\\xd...</td>\n      <td>{'frame_control': {'raw': 128, 'protocol_versi...</td>\n      <td>54:d7:e3:2b:bd:e2</td>\n      <td>2024-11-14</td>\n      <td>1067</td>\n      <td>54D7E3</td>\n      <td>Hewlett Packard Enterprise</td>\n    </tr>\n    <tr>\n      <th>9987</th>\n      <td>C8:2E:18:8D:90:A4</td>\n      <td>1197</td>\n      <td>2024-11-14 17:47:20</td>\n      <td>-78</td>\n      <td>1</td>\n      <td>gAAAAP///////1TX4yu94VTX4yu94SALinB1bg0AAABkADEE</td>\n      <td>AAdlZHVyb2FtAQiChAsWJDBIbAMBAQUEAAEAACoBADIEDB...</td>\n      <td>3b91ca17-643a-4d5a-812c-e09a50e11ffa</td>\n      <td>b'\\x80\\x00\\x00\\x00\\xff\\xff\\xff\\xff\\xff\\xffT\\xd...</td>\n      <td>{'frame_control': {'raw': 128, 'protocol_versi...</td>\n      <td>54:d7:e3:2b:bd:e1</td>\n      <td>2024-11-14</td>\n      <td>1067</td>\n      <td>54D7E3</td>\n      <td>Hewlett Packard Enterprise</td>\n    </tr>\n    <tr>\n      <th>9986</th>\n      <td>C8:2E:18:8D:90:A4</td>\n      <td>1197</td>\n      <td>2024-11-14 17:47:20</td>\n      <td>-78</td>\n      <td>1</td>\n      <td>gAAAAP///////1TX4yu94FTX4yu94BALPF11bg0AAABkADEE</td>\n      <td>AAVHdWVzdAEIgoQLFiQwSGwDAQEFBAABAAAqAQAyBAwSGG...</td>\n      <td>02d53103-cd7e-4f17-be7a-9782d5f4cc33</td>\n      <td>b'\\x80\\x00\\x00\\x00\\xff\\xff\\xff\\xff\\xff\\xffT\\xd...</td>\n      <td>{'frame_control': {'raw': 128, 'protocol_versi...</td>\n      <td>54:d7:e3:2b:bd:e0</td>\n      <td>2024-11-14</td>\n      <td>1067</td>\n      <td>54D7E3</td>\n      <td>Hewlett Packard Enterprise</td>\n    </tr>\n    <tr>\n      <th>9991</th>\n      <td>C8:2E:18:8D:90:A4</td>\n      <td>1197</td>\n      <td>2024-11-14 17:47:20</td>\n      <td>-60</td>\n      <td>1</td>\n      <td>gAAAAP///////1TX4zDSIVTX4zDSIQCVRNIsaw0AAABkADEE</td>\n      <td>AAdlZHVyb2FtAQiChAsWJDBIbAMBAQUEAAEAACoBADIEDB...</td>\n      <td>9a62214f-007f-4241-bd43-60673c79fd51</td>\n      <td>b'\\x80\\x00\\x00\\x00\\xff\\xff\\xff\\xff\\xff\\xffT\\xd...</td>\n      <td>{'frame_control': {'raw': 128, 'protocol_versi...</td>\n      <td>54:d7:e3:30:d2:21</td>\n      <td>2024-11-14</td>\n      <td>1067</td>\n      <td>54D7E3</td>\n      <td>Hewlett Packard Enterprise</td>\n    </tr>\n    <tr>\n      <th>9999</th>\n      <td>C8:2E:18:8D:90:A4</td>\n      <td>1197</td>\n      <td>2024-11-14 17:47:20</td>\n      <td>-61</td>\n      <td>1</td>\n      <td>gAAAAP///////1TX4zDSIFTX4zDSIDCVtUEuaw0AAABkADEE</td>\n      <td>AAVHdWVzdAEIgoQLFiQwSGwDAQEFBAABAAAqAQAyBAwSGG...</td>\n      <td>6089e341-5722-444d-a9ad-e742392d301d</td>\n      <td>b'\\x80\\x00\\x00\\x00\\xff\\xff\\xff\\xff\\xff\\xffT\\xd...</td>\n      <td>{'frame_control': {'raw': 128, 'protocol_versi...</td>\n      <td>54:d7:e3:30:d2:20</td>\n      <td>2024-11-14</td>\n      <td>1067</td>\n      <td>54D7E3</td>\n      <td>Hewlett Packard Enterprise</td>\n    </tr>\n  </tbody>\n</table>\n<p>9989 rows × 15 columns</p>\n</div>"
     },
     "execution_count": 54,
     "metadata": {},
     "output_type": "execute_result"
    }
   ],
   "source": [
    "data_df"
   ],
   "metadata": {
    "collapsed": false,
    "ExecuteTime": {
     "end_time": "2025-02-11T21:27:49.060254Z",
     "start_time": "2025-02-11T21:27:49.036789Z"
    }
   },
   "id": "4e12de46f84ca32f",
   "execution_count": 54
  },
  {
   "cell_type": "code",
   "outputs": [
    {
     "data": {
      "text/plain": "frame_control.frame_type\nManagement    7094\nData          2895\nName: count, dtype: int64"
     },
     "execution_count": 51,
     "metadata": {},
     "output_type": "execute_result"
    }
   ],
   "source": [
    "data_norm = pd.json_normalize(data_df[\"translated_header\"])\n",
    "data_norm[\"frame_control.frame_type\"].value_counts()"
   ],
   "metadata": {
    "collapsed": false,
    "ExecuteTime": {
     "end_time": "2025-02-11T21:16:41.171179Z",
     "start_time": "2025-02-11T21:16:41.004919Z"
    }
   },
   "id": "b88b615c6a9ab595",
   "execution_count": 51
  },
  {
   "cell_type": "code",
   "outputs": [
    {
     "data": {
      "text/plain": "  frame_control.frame_type       frame_control.subtype  count\n5               Management                      Beacon   5833\n0                     Data                        Data   1433\n2                     Data                    QoS Data   1033\n7               Management              Probe Response    591\n4               Management                      Action    423\n1                     Data     Null Function (No Data)    349\n6               Management               Probe Request    246\n3                     Data                    QoS Null     80\n8               Management  Timing Advertisement (11v)      1",
      "text/html": "<div>\n<style scoped>\n    .dataframe tbody tr th:only-of-type {\n        vertical-align: middle;\n    }\n\n    .dataframe tbody tr th {\n        vertical-align: top;\n    }\n\n    .dataframe thead th {\n        text-align: right;\n    }\n</style>\n<table border=\"1\" class=\"dataframe\">\n  <thead>\n    <tr style=\"text-align: right;\">\n      <th></th>\n      <th>frame_control.frame_type</th>\n      <th>frame_control.subtype</th>\n      <th>count</th>\n    </tr>\n  </thead>\n  <tbody>\n    <tr>\n      <th>5</th>\n      <td>Management</td>\n      <td>Beacon</td>\n      <td>5833</td>\n    </tr>\n    <tr>\n      <th>0</th>\n      <td>Data</td>\n      <td>Data</td>\n      <td>1433</td>\n    </tr>\n    <tr>\n      <th>2</th>\n      <td>Data</td>\n      <td>QoS Data</td>\n      <td>1033</td>\n    </tr>\n    <tr>\n      <th>7</th>\n      <td>Management</td>\n      <td>Probe Response</td>\n      <td>591</td>\n    </tr>\n    <tr>\n      <th>4</th>\n      <td>Management</td>\n      <td>Action</td>\n      <td>423</td>\n    </tr>\n    <tr>\n      <th>1</th>\n      <td>Data</td>\n      <td>Null Function (No Data)</td>\n      <td>349</td>\n    </tr>\n    <tr>\n      <th>6</th>\n      <td>Management</td>\n      <td>Probe Request</td>\n      <td>246</td>\n    </tr>\n    <tr>\n      <th>3</th>\n      <td>Data</td>\n      <td>QoS Null</td>\n      <td>80</td>\n    </tr>\n    <tr>\n      <th>8</th>\n      <td>Management</td>\n      <td>Timing Advertisement (11v)</td>\n      <td>1</td>\n    </tr>\n  </tbody>\n</table>\n</div>"
     },
     "execution_count": 52,
     "metadata": {},
     "output_type": "execute_result"
    }
   ],
   "source": [
    "group_counts = data_norm.groupby(\n",
    "    [\"frame_control.frame_type\", \"frame_control.subtype\"]\n",
    ").size().reset_index(name=\"count\")\n",
    "\n",
    "group_counts.sort_values(\"count\", ascending=False, inplace=True)\n",
    "\n",
    "group_counts"
   ],
   "metadata": {
    "collapsed": false,
    "ExecuteTime": {
     "end_time": "2025-02-11T21:17:37.897092Z",
     "start_time": "2025-02-11T21:17:37.884082Z"
    }
   },
   "id": "152e6ddfe262449d",
   "execution_count": 52
  },
  {
   "cell_type": "code",
   "outputs": [
    {
     "data": {
      "text/plain": "      duration_id  qos_control_raw ht_control_raw                frame_body  \\\n0               0              NaN           None  856123650d00000064003104   \n1              48              0.0           None      891a0020000000007c8f   \n2              48              0.0           None      192c0020000000000084   \n3              48              0.0           None      172c002000000000d6d9   \n4              48              0.0           None      881a002000000000e241   \n...           ...              ...            ...                       ...   \n9984            0              NaN           None  d579756e0d00000064003104   \n9985            0              NaN           None  8a70756e0d00000064003104   \n9986            0              NaN           None  3c5d756e0d00000064003104   \n9987            0              NaN           None  44d22c6b0d00000064003104   \n9988            0              NaN           None  b5412e6b0d00000064003104   \n\n      frame_control.raw  frame_control.protocol_version  \\\n0                   128                               0   \n1                 17032                               0   \n2                 18824                               0   \n3                 18824                               0   \n4                 17032                               0   \n...                 ...                             ...   \n9984                128                               0   \n9985                128                               0   \n9986                128                               0   \n9987                128                               0   \n9988                128                               0   \n\n     frame_control.frame_type frame_control.subtype  frame_control.to_ds  \\\n0                  Management                Beacon                False   \n1                        Data              QoS Data                False   \n2                        Data              QoS Data                 True   \n3                        Data              QoS Data                 True   \n4                        Data              QoS Data                False   \n...                       ...                   ...                  ...   \n9984               Management                Beacon                False   \n9985               Management                Beacon                False   \n9986               Management                Beacon                False   \n9987               Management                Beacon                False   \n9988               Management                Beacon                False   \n\n      frame_control.from_ds  ...  addresses.address2  addresses.address3  \\\n0                     False  ...   54:d7:e3:2b:bd:e0   54:d7:e3:2b:bd:e0   \n1                      True  ...   54:d7:e3:30:d2:21   84:b8:02:66:72:34   \n2                     False  ...   cc:7b:5c:27:9e:30   84:b8:02:66:72:34   \n3                     False  ...   cc:7b:5c:27:9e:30   84:b8:02:66:72:34   \n4                      True  ...   54:d7:e3:30:d2:21   84:b8:02:66:72:34   \n...                     ...  ...                 ...                 ...   \n9984                  False  ...   54:d7:e3:2b:bd:e2   54:d7:e3:2b:bd:e2   \n9985                  False  ...   54:d7:e3:2b:bd:e1   54:d7:e3:2b:bd:e1   \n9986                  False  ...   54:d7:e3:2b:bd:e0   54:d7:e3:2b:bd:e0   \n9987                  False  ...   54:d7:e3:30:d2:21   54:d7:e3:30:d2:21   \n9988                  False  ...   54:d7:e3:30:d2:20   54:d7:e3:30:d2:20   \n\n      addresses.address4  sequence_control.raw  \\\n0                   None                 10912   \n1                   None                 42960   \n2                   None                 49232   \n3                   None                 49200   \n4                   None                 42944   \n...                  ...                   ...   \n9984                None                  2864   \n9985                None                  2848   \n9986                None                  2832   \n9987                None                 38144   \n9988                None                 38192   \n\n      sequence_control.fragment_number  sequence_control.sequence_number  \\\n0                                    0                               682   \n1                                    0                              2685   \n2                                    0                              3077   \n3                                    0                              3075   \n4                                    0                              2684   \n...                                ...                               ...   \n9984                                 0                               179   \n9985                                 0                               178   \n9986                                 0                               177   \n9987                                 0                              2384   \n9988                                 0                              2387   \n\n     frame_body.ssid frame_body.supported_rates frame_body.extended_rates  \\\n0                NaN                        NaN                       NaN   \n1                NaN                        NaN                       NaN   \n2                NaN                        NaN                       NaN   \n3                NaN                        NaN                       NaN   \n4                NaN                        NaN                       NaN   \n...              ...                        ...                       ...   \n9984             NaN                        NaN                       NaN   \n9985             NaN                        NaN                       NaN   \n9986             NaN                        NaN                       NaN   \n9987             NaN                        NaN                       NaN   \n9988             NaN                        NaN                       NaN   \n\n     frame_body.vendor_specific  \n0                           NaN  \n1                           NaN  \n2                           NaN  \n3                           NaN  \n4                           NaN  \n...                         ...  \n9984                        NaN  \n9985                        NaN  \n9986                        NaN  \n9987                        NaN  \n9988                        NaN  \n\n[9989 rows x 27 columns]",
      "text/html": "<div>\n<style scoped>\n    .dataframe tbody tr th:only-of-type {\n        vertical-align: middle;\n    }\n\n    .dataframe tbody tr th {\n        vertical-align: top;\n    }\n\n    .dataframe thead th {\n        text-align: right;\n    }\n</style>\n<table border=\"1\" class=\"dataframe\">\n  <thead>\n    <tr style=\"text-align: right;\">\n      <th></th>\n      <th>duration_id</th>\n      <th>qos_control_raw</th>\n      <th>ht_control_raw</th>\n      <th>frame_body</th>\n      <th>frame_control.raw</th>\n      <th>frame_control.protocol_version</th>\n      <th>frame_control.frame_type</th>\n      <th>frame_control.subtype</th>\n      <th>frame_control.to_ds</th>\n      <th>frame_control.from_ds</th>\n      <th>...</th>\n      <th>addresses.address2</th>\n      <th>addresses.address3</th>\n      <th>addresses.address4</th>\n      <th>sequence_control.raw</th>\n      <th>sequence_control.fragment_number</th>\n      <th>sequence_control.sequence_number</th>\n      <th>frame_body.ssid</th>\n      <th>frame_body.supported_rates</th>\n      <th>frame_body.extended_rates</th>\n      <th>frame_body.vendor_specific</th>\n    </tr>\n  </thead>\n  <tbody>\n    <tr>\n      <th>0</th>\n      <td>0</td>\n      <td>NaN</td>\n      <td>None</td>\n      <td>856123650d00000064003104</td>\n      <td>128</td>\n      <td>0</td>\n      <td>Management</td>\n      <td>Beacon</td>\n      <td>False</td>\n      <td>False</td>\n      <td>...</td>\n      <td>54:d7:e3:2b:bd:e0</td>\n      <td>54:d7:e3:2b:bd:e0</td>\n      <td>None</td>\n      <td>10912</td>\n      <td>0</td>\n      <td>682</td>\n      <td>NaN</td>\n      <td>NaN</td>\n      <td>NaN</td>\n      <td>NaN</td>\n    </tr>\n    <tr>\n      <th>1</th>\n      <td>48</td>\n      <td>0.0</td>\n      <td>None</td>\n      <td>891a0020000000007c8f</td>\n      <td>17032</td>\n      <td>0</td>\n      <td>Data</td>\n      <td>QoS Data</td>\n      <td>False</td>\n      <td>True</td>\n      <td>...</td>\n      <td>54:d7:e3:30:d2:21</td>\n      <td>84:b8:02:66:72:34</td>\n      <td>None</td>\n      <td>42960</td>\n      <td>0</td>\n      <td>2685</td>\n      <td>NaN</td>\n      <td>NaN</td>\n      <td>NaN</td>\n      <td>NaN</td>\n    </tr>\n    <tr>\n      <th>2</th>\n      <td>48</td>\n      <td>0.0</td>\n      <td>None</td>\n      <td>192c0020000000000084</td>\n      <td>18824</td>\n      <td>0</td>\n      <td>Data</td>\n      <td>QoS Data</td>\n      <td>True</td>\n      <td>False</td>\n      <td>...</td>\n      <td>cc:7b:5c:27:9e:30</td>\n      <td>84:b8:02:66:72:34</td>\n      <td>None</td>\n      <td>49232</td>\n      <td>0</td>\n      <td>3077</td>\n      <td>NaN</td>\n      <td>NaN</td>\n      <td>NaN</td>\n      <td>NaN</td>\n    </tr>\n    <tr>\n      <th>3</th>\n      <td>48</td>\n      <td>0.0</td>\n      <td>None</td>\n      <td>172c002000000000d6d9</td>\n      <td>18824</td>\n      <td>0</td>\n      <td>Data</td>\n      <td>QoS Data</td>\n      <td>True</td>\n      <td>False</td>\n      <td>...</td>\n      <td>cc:7b:5c:27:9e:30</td>\n      <td>84:b8:02:66:72:34</td>\n      <td>None</td>\n      <td>49200</td>\n      <td>0</td>\n      <td>3075</td>\n      <td>NaN</td>\n      <td>NaN</td>\n      <td>NaN</td>\n      <td>NaN</td>\n    </tr>\n    <tr>\n      <th>4</th>\n      <td>48</td>\n      <td>0.0</td>\n      <td>None</td>\n      <td>881a002000000000e241</td>\n      <td>17032</td>\n      <td>0</td>\n      <td>Data</td>\n      <td>QoS Data</td>\n      <td>False</td>\n      <td>True</td>\n      <td>...</td>\n      <td>54:d7:e3:30:d2:21</td>\n      <td>84:b8:02:66:72:34</td>\n      <td>None</td>\n      <td>42944</td>\n      <td>0</td>\n      <td>2684</td>\n      <td>NaN</td>\n      <td>NaN</td>\n      <td>NaN</td>\n      <td>NaN</td>\n    </tr>\n    <tr>\n      <th>...</th>\n      <td>...</td>\n      <td>...</td>\n      <td>...</td>\n      <td>...</td>\n      <td>...</td>\n      <td>...</td>\n      <td>...</td>\n      <td>...</td>\n      <td>...</td>\n      <td>...</td>\n      <td>...</td>\n      <td>...</td>\n      <td>...</td>\n      <td>...</td>\n      <td>...</td>\n      <td>...</td>\n      <td>...</td>\n      <td>...</td>\n      <td>...</td>\n      <td>...</td>\n      <td>...</td>\n    </tr>\n    <tr>\n      <th>9984</th>\n      <td>0</td>\n      <td>NaN</td>\n      <td>None</td>\n      <td>d579756e0d00000064003104</td>\n      <td>128</td>\n      <td>0</td>\n      <td>Management</td>\n      <td>Beacon</td>\n      <td>False</td>\n      <td>False</td>\n      <td>...</td>\n      <td>54:d7:e3:2b:bd:e2</td>\n      <td>54:d7:e3:2b:bd:e2</td>\n      <td>None</td>\n      <td>2864</td>\n      <td>0</td>\n      <td>179</td>\n      <td>NaN</td>\n      <td>NaN</td>\n      <td>NaN</td>\n      <td>NaN</td>\n    </tr>\n    <tr>\n      <th>9985</th>\n      <td>0</td>\n      <td>NaN</td>\n      <td>None</td>\n      <td>8a70756e0d00000064003104</td>\n      <td>128</td>\n      <td>0</td>\n      <td>Management</td>\n      <td>Beacon</td>\n      <td>False</td>\n      <td>False</td>\n      <td>...</td>\n      <td>54:d7:e3:2b:bd:e1</td>\n      <td>54:d7:e3:2b:bd:e1</td>\n      <td>None</td>\n      <td>2848</td>\n      <td>0</td>\n      <td>178</td>\n      <td>NaN</td>\n      <td>NaN</td>\n      <td>NaN</td>\n      <td>NaN</td>\n    </tr>\n    <tr>\n      <th>9986</th>\n      <td>0</td>\n      <td>NaN</td>\n      <td>None</td>\n      <td>3c5d756e0d00000064003104</td>\n      <td>128</td>\n      <td>0</td>\n      <td>Management</td>\n      <td>Beacon</td>\n      <td>False</td>\n      <td>False</td>\n      <td>...</td>\n      <td>54:d7:e3:2b:bd:e0</td>\n      <td>54:d7:e3:2b:bd:e0</td>\n      <td>None</td>\n      <td>2832</td>\n      <td>0</td>\n      <td>177</td>\n      <td>NaN</td>\n      <td>NaN</td>\n      <td>NaN</td>\n      <td>NaN</td>\n    </tr>\n    <tr>\n      <th>9987</th>\n      <td>0</td>\n      <td>NaN</td>\n      <td>None</td>\n      <td>44d22c6b0d00000064003104</td>\n      <td>128</td>\n      <td>0</td>\n      <td>Management</td>\n      <td>Beacon</td>\n      <td>False</td>\n      <td>False</td>\n      <td>...</td>\n      <td>54:d7:e3:30:d2:21</td>\n      <td>54:d7:e3:30:d2:21</td>\n      <td>None</td>\n      <td>38144</td>\n      <td>0</td>\n      <td>2384</td>\n      <td>NaN</td>\n      <td>NaN</td>\n      <td>NaN</td>\n      <td>NaN</td>\n    </tr>\n    <tr>\n      <th>9988</th>\n      <td>0</td>\n      <td>NaN</td>\n      <td>None</td>\n      <td>b5412e6b0d00000064003104</td>\n      <td>128</td>\n      <td>0</td>\n      <td>Management</td>\n      <td>Beacon</td>\n      <td>False</td>\n      <td>False</td>\n      <td>...</td>\n      <td>54:d7:e3:30:d2:20</td>\n      <td>54:d7:e3:30:d2:20</td>\n      <td>None</td>\n      <td>38192</td>\n      <td>0</td>\n      <td>2387</td>\n      <td>NaN</td>\n      <td>NaN</td>\n      <td>NaN</td>\n      <td>NaN</td>\n    </tr>\n  </tbody>\n</table>\n<p>9989 rows × 27 columns</p>\n</div>"
     },
     "execution_count": 53,
     "metadata": {},
     "output_type": "execute_result"
    }
   ],
   "source": [
    "data_norm"
   ],
   "metadata": {
    "collapsed": false,
    "ExecuteTime": {
     "end_time": "2025-02-11T21:25:45.125068Z",
     "start_time": "2025-02-11T21:25:45.094839Z"
    }
   },
   "id": "f4332cac88d45ac3",
   "execution_count": 53
  },
  {
   "cell_type": "code",
   "outputs": [],
   "source": [],
   "metadata": {
    "collapsed": false
   },
   "id": "81572f7f69d5d23"
  }
 ],
 "metadata": {
  "kernelspec": {
   "display_name": "Python 3",
   "language": "python",
   "name": "python3"
  },
  "language_info": {
   "codemirror_mode": {
    "name": "ipython",
    "version": 2
   },
   "file_extension": ".py",
   "mimetype": "text/x-python",
   "name": "python",
   "nbconvert_exporter": "python",
   "pygments_lexer": "ipython2",
   "version": "2.7.6"
  }
 },
 "nbformat": 4,
 "nbformat_minor": 5
}
